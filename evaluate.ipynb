{
 "cells": [
  {
   "cell_type": "code",
   "execution_count": 44,
   "metadata": {},
   "outputs": [],
   "source": [
    "import numpy as np\n",
    "import pandas as pd\n",
    "from matplotlib import pyplot as plt\n",
    "from stardist.matching import matching\n",
    "from PIL import Image\n",
    "import glob \n",
    "import os \n",
    "import csv \n",
    "from typing import Set\n",
    "\n",
    "def find_files(directory: str, format: str = '.svs') -> Set[str]:\n",
    "    \"\"\"\n",
    "    Find all folders/subdirectories that contain files with the specified format.\n",
    "    :param directory: The root directory to search for files.\n",
    "    :param format: The type of the files to search for (default is '.svs', for the WSI file search).\n",
    "    :return: A set of directories containing files with the specified format\n",
    "    \"\"\"\n",
    "    svs_directories = set()  # Use a set to store unique parent directories\n",
    "\n",
    "    for root, dirs, files in os.walk(directory):\n",
    "        for file in files:\n",
    "            if file.endswith(format):\n",
    "                svs_directories.add(root)  # Use add() to add unique directories\n",
    "\n",
    "    return svs_directories\n"
   ]
  },
  {
   "cell_type": "code",
   "execution_count": 46,
   "metadata": {},
   "outputs": [
    {
     "name": "stdout",
     "output_type": "stream",
     "text": [
      "['/home/guoj5/Desktop/200_annotation/temp/cellvit_fold6_latest_723/200_annotation_qa']\n",
      "200_annotation_qa\n"
     ]
    }
   ],
   "source": [
    "# data directory\n",
    "path_to_predictions = '/home/guoj5/Desktop/200_annotation/temp/cellvit_fold6_latest_723/200_annotation_qa'\t#parent directory of '.npy'\n",
    "path_to_groundtruth = '/home/guoj5/Documents/200_annotation_masks/masks_npy'\n",
    "# Output LOG File path\n",
    "# file_path = \"/home/guoj5/Desktop/200_annotation/metrics/augment_model_logs/ccellvit_tunefold6_epoch9/cellvit_pred_log.csv\"\n",
    "file_path = '/home/guoj5/Desktop/200_annotation/test1.csv'\n",
    "os.makedirs(file_path[0:file_path.find(os.path.basename(file_path))], exist_ok=True)\n",
    "\n",
    "# dataset prediction dir\n",
    "data_dirs = list(find_files(path_to_predictions, format='.npy'))\n",
    "print(data_dirs)\n",
    "\n",
    "\n",
    "\n",
    "for directory in data_dirs:\n",
    "\tprint(os.path.basename(directory))\n",
    "\tpredictions = glob.glob(os.path.join(directory, '*.npy'))\n",
    "\t\n",
    "\tLog = []\n",
    "\tfor prediction in predictions:\n",
    "\t\t# /path/to/ground truth\n",
    "\t\tgt = os.path.join(path_to_groundtruth, prediction.split('/')[-1].replace(\"_contours.npy\", \".npy\"))\n",
    "\t\t\n",
    "        # load predictions and ground truth as I1, I2\n",
    "\t\tI1 = np.load(prediction).astype(np.uint32)\n",
    "\t\tI2 = np.load(gt)\n",
    "\n",
    "        # stats object w/t iou=0.5\n",
    "\t\tstats = matching(y_true = I2, y_pred = I1, thresh=0.5)\n",
    "\t\tLog.append([directory, prediction.split('/')[-1], stats.f1, stats.precision, stats.recall, stats.panoptic_quality])\n",
    "\n",
    "\t# Check if the file exists\n",
    "\tif not os.path.exists(file_path):\n",
    "\t\t# If it doesn't exist, create a new file\n",
    "\t\twith open(file_path, mode='w', newline='') as file:\n",
    "\t\t\twriter = csv.writer(file)\n",
    "\t\t\twriter.writerow(['folder', 'predictions', 'f1', 'precision', 'recall', 'pq'])\n",
    "\t\t\tfor row in Log:\n",
    "\t\t\t\twriter.writerow(row)\n",
    "\t\t"
   ]
  },
  {
   "cell_type": "code",
   "execution_count": 39,
   "metadata": {},
   "outputs": [
    {
     "name": "stdout",
     "output_type": "stream",
     "text": [
      "200_annotation_qa\n"
     ]
    }
   ],
   "source": [
    "\n"
   ]
  },
  {
   "cell_type": "code",
   "execution_count": 33,
   "metadata": {},
   "outputs": [
    {
     "data": {
      "text/plain": [
       "Matching(criterion='iou', thresh=0.5, fp=13, tp=93, fn=32, precision=0.8773584905660378, recall=0.744, accuracy=0.6739130434782609, f1=0.8051948051948052, n_true=125, n_pred=106, mean_true_score=0.6282586669921875, mean_matched_score=0.8444336921938004, panoptic_quality=0.6799336222859172)"
      ]
     },
     "execution_count": 33,
     "metadata": {},
     "output_type": "execute_result"
    }
   ],
   "source": [
    "stats"
   ]
  },
  {
   "cell_type": "code",
   "execution_count": 47,
   "metadata": {},
   "outputs": [],
   "source": [
    "df1 = pd.read_csv('/home/guoj5/Desktop/200_annotation/test1.csv')\n",
    "df2 = pd.read_csv('/home/guoj5/Desktop/200_annotation/test2.csv')"
   ]
  },
  {
   "cell_type": "code",
   "execution_count": 48,
   "metadata": {},
   "outputs": [
    {
     "data": {
      "text/plain": [
       "Index(['folder', 'predictions', 'f1', 'precision', 'recall', 'pq'], dtype='object')"
      ]
     },
     "execution_count": 48,
     "metadata": {},
     "output_type": "execute_result"
    }
   ],
   "source": [
    "df1.columns"
   ]
  },
  {
   "cell_type": "code",
   "execution_count": 50,
   "metadata": {},
   "outputs": [
    {
     "name": "stderr",
     "output_type": "stream",
     "text": [
      "2053335143.py (1): The default value of numeric_only in DataFrame.mean is deprecated. In a future version, it will default to False. In addition, specifying 'numeric_only=None' is deprecated. Select only valid columns or specify the value of numeric_only to silence this warning.\n"
     ]
    },
    {
     "data": {
      "text/plain": [
       "f1           0.789470\n",
       "precision    0.786122\n",
       "recall       0.809565\n",
       "pq           0.658740\n",
       "dtype: float64"
      ]
     },
     "execution_count": 50,
     "metadata": {},
     "output_type": "execute_result"
    }
   ],
   "source": [
    "df1.mean()"
   ]
  },
  {
   "cell_type": "code",
   "execution_count": 51,
   "metadata": {},
   "outputs": [
    {
     "name": "stderr",
     "output_type": "stream",
     "text": [
      "3587575296.py (1): The default value of numeric_only in DataFrame.mean is deprecated. In a future version, it will default to False. In addition, specifying 'numeric_only=None' is deprecated. Select only valid columns or specify the value of numeric_only to silence this warning.\n"
     ]
    },
    {
     "data": {
      "text/plain": [
       "f1           0.774712\n",
       "precision    0.815150\n",
       "recall       0.755956\n",
       "pq           0.649458\n",
       "dtype: float64"
      ]
     },
     "execution_count": 51,
     "metadata": {},
     "output_type": "execute_result"
    }
   ],
   "source": [
    "df2.mean()"
   ]
  },
  {
   "cell_type": "code",
   "execution_count": null,
   "metadata": {},
   "outputs": [],
   "source": []
  }
 ],
 "metadata": {
  "kernelspec": {
   "display_name": "stardist_clone",
   "language": "python",
   "name": "python3"
  },
  "language_info": {
   "codemirror_mode": {
    "name": "ipython",
    "version": 3
   },
   "file_extension": ".py",
   "mimetype": "text/x-python",
   "name": "python",
   "nbconvert_exporter": "python",
   "pygments_lexer": "ipython3",
   "version": "3.9.7"
  }
 },
 "nbformat": 4,
 "nbformat_minor": 2
}
